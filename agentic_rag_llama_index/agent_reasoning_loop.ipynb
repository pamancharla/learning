{
 "cells": [
  {
   "cell_type": "code",
   "execution_count": 1,
   "metadata": {},
   "outputs": [],
   "source": [
    "from helper import get_openai_api_key\n",
    "OPENAI_API_KEY = get_openai_api_key()"
   ]
  },
  {
   "cell_type": "code",
   "execution_count": 2,
   "metadata": {},
   "outputs": [],
   "source": [
    "import nest_asyncio\n",
    "nest_asyncio.apply()"
   ]
  },
  {
   "cell_type": "code",
   "execution_count": 3,
   "metadata": {},
   "outputs": [],
   "source": [
    "from utils import get_doc_tools\n",
    "\n",
    "vector_tool, summary_tool = get_doc_tools(\"metagpt.pdf\", \"metagpt\")"
   ]
  },
  {
   "cell_type": "code",
   "execution_count": 7,
   "metadata": {},
   "outputs": [],
   "source": [
    "from llama_index.llms.openai import OpenAI\n",
    "\n",
    "llm = OpenAI(model=\"gpt-4o-mini\", temperature=0)"
   ]
  },
  {
   "cell_type": "markdown",
   "metadata": {},
   "source": [
    "## Agent\n",
    "\n",
    "Consists of two components:\n",
    "* AgentWorker - Responsible for executing the next step of a given agent\n",
    "* AgentRunner - Overall task dispatcher, responsible for creating a task, orchestrates runs of AgentWorkers on top of tasks\n"
   ]
  },
  {
   "cell_type": "code",
   "execution_count": 8,
   "metadata": {},
   "outputs": [],
   "source": [
    "from llama_index.core.agent import FunctionCallingAgentWorker\n",
    "from llama_index.core.agent import AgentRunner\n",
    "\n",
    "agent_worker = FunctionCallingAgentWorker.from_tools(\n",
    "    [vector_tool, summary_tool], \n",
    "    llm=llm, \n",
    "    verbose=True\n",
    ")\n",
    "agent = AgentRunner(agent_worker)"
   ]
  },
  {
   "cell_type": "code",
   "execution_count": 9,
   "metadata": {},
   "outputs": [
    {
     "name": "stdout",
     "output_type": "stream",
     "text": [
      "Added user message to memory: Tell me about the agent roles in MetaGPT, and then how they communicate with each other.\n",
      "=== Calling Function ===\n",
      "Calling function: vector_tool_metagpt with args: {\"query\": \"agent roles in MetaGPT\"}\n",
      "=== Function Output ===\n",
      "In MetaGPT, the agent roles include Product Manager, Architect, Project Manager, Engineer, and QA Engineer. Each role has specific responsibilities and skills tailored to their tasks within the software company simulated by MetaGPT. The agents are specialized in their roles to efficiently collaborate and contribute to solving complex tasks or problems.\n",
      "=== Calling Function ===\n",
      "Calling function: vector_tool_metagpt with args: {\"query\": \"communication between agents in MetaGPT\"}\n",
      "=== Function Output ===\n",
      "Agents in MetaGPT communicate through a structured communication protocol that involves a shared message pool. This pool allows agents to publish and access structured messages, enabling efficient exchange of information among different roles. Additionally, MetaGPT implements a publish-subscribe mechanism where agents can subscribe to specific information based on their role profiles, ensuring that they receive only relevant information and avoid information overload. This approach enhances communication efficiency and coordination among agents in the system.\n",
      "=== LLM Response ===\n",
      "In MetaGPT, the agent roles include:\n",
      "\n",
      "1. **Product Manager**: Responsible for defining the product vision and strategy.\n",
      "2. **Architect**: Focuses on the overall system architecture and design.\n",
      "3. **Project Manager**: Manages project timelines, resources, and team coordination.\n",
      "4. **Engineer**: Engages in the actual development and implementation of the software.\n",
      "5. **QA Engineer**: Ensures the quality of the product through testing and validation.\n",
      "\n",
      "Each role has specific responsibilities and skills tailored to their tasks within the simulated software company, allowing for efficient collaboration and contribution to solving complex tasks or problems.\n",
      "\n",
      "### Communication Between Agents\n",
      "\n",
      "Agents in MetaGPT communicate through a structured communication protocol that involves a shared message pool. This pool allows agents to publish and access structured messages, facilitating the efficient exchange of information among different roles. \n",
      "\n",
      "Additionally, MetaGPT implements a publish-subscribe mechanism where agents can subscribe to specific information based on their role profiles. This ensures that they receive only relevant information, helping to avoid information overload. This approach enhances communication efficiency and coordination among agents in the system.\n"
     ]
    }
   ],
   "source": [
    "response = agent.query(\n",
    "    \"Tell me about the agent roles in MetaGPT, \"\n",
    "    \"and then how they communicate with each other.\"\n",
    ")"
   ]
  },
  {
   "cell_type": "code",
   "execution_count": 10,
   "metadata": {},
   "outputs": [
    {
     "name": "stdout",
     "output_type": "stream",
     "text": [
      "page_label: 9\n",
      "file_name: metagpt.pdf\n",
      "file_path: metagpt.pdf\n",
      "file_type: application/pdf\n",
      "file_size: 16911937\n",
      "creation_date: 2025-01-30\n",
      "last_modified_date: 2025-01-30\n",
      "\n",
      "Preprint\n",
      "Table 2: Comparison of capabilities for MetaGPT and other approaches. ‘!’ indicates the\n",
      "presence of a specific feature in the corresponding framework, ‘%’ its absence.\n",
      "Framework Capabiliy AutoGPT LangChain AgentVerse ChatDev MetaGPT\n",
      "PRD generation % % % % !\n",
      "Tenical design genenration % % % % !\n",
      "API interface generation % % % % !\n",
      "Code generation ! ! ! ! !\n",
      "Precompilation execution % % % % !\n",
      "Role-based task management % % % ! !\n",
      "Code review % % ! ! !\n",
      "Table 3: Ablation study on roles. ‘#’ denotes ‘The number of’, ‘Product’ denotes ‘Product man-\n",
      "ager’, and ‘Project’ denotes ‘Project manager’. ‘ !’ indicates the addition of a specific role. ‘Revi-\n",
      "sions’ refers to ‘Human Revision Cost’.\n",
      "Engineer Product Architect Project #Agents #Lines Expense Revisions Executability\n",
      "! % % % 1 83.0 $ 0.915 10 1.0\n",
      "! ! % % 2 112.0 $ 1.059 6.5 2.0\n",
      "! ! ! % 3 143.0 $ 1.204 4.0 2.5\n",
      "! ! % ! 3 205.0 $ 1.251 3.5 2.0\n",
      "! ! ! ! 4 191.0 $ 1.385 2.5 4.0\n",
      "can easily integrate SOP-like designs to improve their performance, similar to injecting chain-of-\n",
      "thought (Wei et al., 2022) in LLMs.\n",
      "4.4 A BLATION STUDY\n",
      "The Effectiveness of Roles To understand the impact of different roles on the final results, we\n",
      "perform two tasks that involve generating effective code and calculating average statistics. When we\n",
      "exclude certain roles, unworkable codes are generated. As indicated by Table 3, the addition of roles\n",
      "different from just the Engineer consistently improves both revisions and executability. While more\n",
      "roles slightly increase the expenses, the overall performance improves noticeably, demonstrating the\n",
      "effectiveness of the various roles.\n",
      "The Effectiveness of Executable Feedback Mechanism As shown in Figure 4, adding executable\n",
      "feedback into MetaGPT leads to a significant improvement of 4.2% and 5.4% in Pass @1on Hu-\n",
      "manEval and MBPP, respectively. Besides, Table 1 shows that the feedback mechanism improves\n",
      "feasibility (3.67 to 3.75) and reduces the cost of human revisions (2.25 to 0.83). These results\n",
      "illustrate how our designed feedback mechanism can produce higher-quality code. Additional quan-\n",
      "titative results of MetaGPT and MetaGPT without executable feedback are shown in Table 4 and\n",
      "Table 9.\n",
      "5 C ONCLUSION\n",
      "This work introduces MetaGPT, a novel meta-programming framework that leverages SOPs to en-\n",
      "hance the problem-solving capabilities of multi-agent systems based on Large Language Models\n",
      "(LLMs). MetaGPT models a group of agents as a simulated software company, analogous to simu-\n",
      "lated towns (Park et al., 2023) and the Minecraft Sandbox in V oyager (Wang et al., 2023a). MetaGPT\n",
      "leverages role specialization, workflow management, and efficient sharing mechanisms such as mes-\n",
      "sage pools and subscriptions, rendering it a flexible and portable platform for autonomous agents\n",
      "and multi-agent frameworks. It uses an executable feedback mechanism to enhance code generation\n",
      "quality during runtime. In extensive experiments, MetaGPT achieves state-of-the-art performance\n",
      "on multiple benchmarks. The successful integration of human-like SOPs inspires future research\n",
      "on human-inspired techniques for artificial multi-agent systems. We also view our work as an early\n",
      "attempt to regulate LLM-based multi-agent frameworks. See also the outlook (Appendix A).\n",
      "9\n"
     ]
    }
   ],
   "source": [
    "print(response.source_nodes[0].get_content(metadata_mode=\"all\"))"
   ]
  },
  {
   "cell_type": "markdown",
   "metadata": {},
   "source": [
    "## Full Agent Reasoning Loop\n",
    "\n",
    "* agent.query allows you to query the agent in a one off manner, but does not preserve state.\n",
    "* agent is able to maintain chats in a conversational mmemmory buffer.\n",
    "* memory module can be customized but by default is a flat list of items, that's a rolling buffer depending on context window of LLM"
   ]
  },
  {
   "cell_type": "code",
   "execution_count": 12,
   "metadata": {},
   "outputs": [
    {
     "name": "stdout",
     "output_type": "stream",
     "text": [
      "Added user message to memory: Tell me about the evaluation datasets used. There might be multiple\n",
      "=== Calling Function ===\n",
      "Calling function: vector_tool_metagpt with args: {\"query\": \"evaluation datasets in MetaGPT\"}\n",
      "=== Function Output ===\n",
      "SoftwareDev dataset\n",
      "=== Calling Function ===\n",
      "Calling function: vector_tool_metagpt with args: {\"query\": \"evaluation datasets used in MetaGPT\"}\n",
      "=== Function Output ===\n",
      "SoftwareDev dataset\n",
      "=== LLM Response ===\n",
      "The primary evaluation dataset used in MetaGPT is the **SoftwareDev dataset**, which includes 70 diverse software development tasks. There is no mention of multiple datasets in the available information, indicating that the SoftwareDev dataset is the main focus for evaluation purposes. If there are additional datasets, they are not specified in the current context.\n"
     ]
    }
   ],
   "source": [
    "response = agent.chat(\n",
    "    \"Tell me about the evaluation datasets used. There might be multiple\"\n",
    ")"
   ]
  },
  {
   "cell_type": "code",
   "execution_count": 13,
   "metadata": {},
   "outputs": [
    {
     "name": "stdout",
     "output_type": "stream",
     "text": [
      "Added user message to memory: Tell me the results over one of the above datasets.\n",
      "=== Calling Function ===\n",
      "Calling function: vector_tool_metagpt with args: {\"query\": \"results on SoftwareDev dataset in MetaGPT\"}\n",
      "=== Function Output ===\n",
      "MetaGPT achieves a score of 3.75 for executability on the SoftwareDev dataset, outperforming ChatDev in various metrics such as running times, token usage, lines of code per file, total code lines, productivity, and human revision cost.\n",
      "=== LLM Response ===\n",
      "MetaGPT achieves a score of **3.75 for executability** on the SoftwareDev dataset. It outperforms ChatDev across various metrics, including:\n",
      "\n",
      "- Running times\n",
      "- Token usage\n",
      "- Lines of code per file\n",
      "- Total code lines\n",
      "- Productivity\n",
      "- Human revision cost\n",
      "\n",
      "These results indicate that MetaGPT is more efficient and effective in handling software development tasks compared to ChatDev.\n"
     ]
    }
   ],
   "source": [
    "response = agent.chat(\"Tell me the results over one of the above datasets.\")"
   ]
  },
  {
   "cell_type": "markdown",
   "metadata": {},
   "source": [
    "## Agent Control\n",
    "* **Decoupling Task Creation and Execution**: Users gain the flexibility to schedule task execution according to their needs.\n",
    "* **Enhanced Debuggability**: Offers deeper insights into each step of the execution process, improved troubleshooting capabilities.\n",
    "* **Steerability**: Allows users to directly modify intermediate steps and incorporate human feedback for refined control"
   ]
  },
  {
   "cell_type": "code",
   "execution_count": 17,
   "metadata": {},
   "outputs": [],
   "source": [
    "agent_worker = FunctionCallingAgentWorker.from_tools(\n",
    "    [vector_tool, summary_tool], \n",
    "    llm=llm, \n",
    "    verbose=True\n",
    ")\n",
    "agent = AgentRunner(agent_worker)"
   ]
  },
  {
   "cell_type": "code",
   "execution_count": 18,
   "metadata": {},
   "outputs": [],
   "source": [
    "task = agent.create_task(\n",
    "    \"Tell me about the agent roles in MetaGPT, \"\n",
    "    \"and then how they communicate with each other.\"\n",
    ")"
   ]
  },
  {
   "cell_type": "code",
   "execution_count": 19,
   "metadata": {},
   "outputs": [
    {
     "name": "stdout",
     "output_type": "stream",
     "text": [
      "Added user message to memory: Tell me about the agent roles in MetaGPT, and then how they communicate with each other.\n",
      "=== Calling Function ===\n",
      "Calling function: vector_tool_metagpt with args: {\"query\": \"agent roles in MetaGPT\"}\n",
      "=== Function Output ===\n",
      "Engineer, Product Manager, Architect, Project Manager, and QA Engineer are the roles specified in MetaGPT.\n",
      "=== Calling Function ===\n",
      "Calling function: vector_tool_metagpt with args: {\"query\": \"communication between agents in MetaGPT\"}\n",
      "=== Function Output ===\n",
      "Agents in MetaGPT communicate through a structured communication protocol that involves a shared message pool. This pool allows agents to publish structured messages and subscribe to relevant messages based on their profiles. By utilizing a publish-subscribe mechanism, agents can efficiently exchange information and access necessary data from other roles in the system. This approach enhances communication efficiency by enabling transparent message exchange and eliminating the need for direct inquiries between agents.\n"
     ]
    }
   ],
   "source": [
    "step_output = agent.run_step(task.task_id)"
   ]
  },
  {
   "cell_type": "code",
   "execution_count": 20,
   "metadata": {},
   "outputs": [
    {
     "name": "stdout",
     "output_type": "stream",
     "text": [
      "Num completed for task 0f9f08fa-0cf2-4c8a-9c39-17126f278f7f: 1\n",
      "Engineer, Product Manager, Architect, Project Manager, and QA Engineer are the roles specified in MetaGPT.\n"
     ]
    }
   ],
   "source": [
    "completed_steps = agent.get_completed_steps(task.task_id)\n",
    "print(f\"Num completed for task {task.task_id}: {len(completed_steps)}\")\n",
    "print(completed_steps[0].output.sources[0].raw_output)"
   ]
  },
  {
   "cell_type": "code",
   "execution_count": 21,
   "metadata": {},
   "outputs": [
    {
     "name": "stdout",
     "output_type": "stream",
     "text": [
      "Num upcoming steps for task 0f9f08fa-0cf2-4c8a-9c39-17126f278f7f: 1\n"
     ]
    },
    {
     "data": {
      "text/plain": [
       "TaskStep(task_id='0f9f08fa-0cf2-4c8a-9c39-17126f278f7f', step_id='76a8ac5e-fca7-4a59-8145-c26a58c4b7fe', input=None, step_state={}, next_steps={}, prev_steps={}, is_ready=True)"
      ]
     },
     "execution_count": 21,
     "metadata": {},
     "output_type": "execute_result"
    }
   ],
   "source": [
    "upcoming_steps = agent.get_upcoming_steps(task.task_id)\n",
    "print(f\"Num upcoming steps for task {task.task_id}: {len(upcoming_steps)}\")\n",
    "upcoming_steps[0]"
   ]
  },
  {
   "cell_type": "code",
   "execution_count": 22,
   "metadata": {},
   "outputs": [
    {
     "name": "stdout",
     "output_type": "stream",
     "text": [
      "Added user message to memory: What about how agents share information?\n",
      "=== Calling Function ===\n",
      "Calling function: vector_tool_metagpt with args: {\"query\": \"how agents share information in MetaGPT\"}\n",
      "=== Function Output ===\n",
      "Agents in MetaGPT share information by using a shared message pool to publish structured messages. They can also subscribe to relevant messages based on their profiles. Additionally, agents monitor the environment (i.e., the message pool) to identify important observations, such as messages from other agents, which can directly trigger actions or assist in completing tasks.\n"
     ]
    }
   ],
   "source": [
    "step_output = agent.run_step(\n",
    "    task.task_id, input=\"What about how agents share information?\"\n",
    ")"
   ]
  },
  {
   "cell_type": "code",
   "execution_count": 23,
   "metadata": {},
   "outputs": [
    {
     "name": "stdout",
     "output_type": "stream",
     "text": [
      "=== LLM Response ===\n",
      "In MetaGPT, agents share information through a shared message pool where they can publish structured messages. Each agent can subscribe to messages that are relevant to their roles based on their profiles. This setup allows agents to monitor the environment (the message pool) for important observations, such as messages from other agents, which can trigger actions or assist in completing tasks. This mechanism enhances collaboration and ensures that agents have access to the information they need to perform their roles effectively.\n",
      "True\n"
     ]
    }
   ],
   "source": [
    "step_output = agent.run_step(task.task_id)\n",
    "print(step_output.is_last)"
   ]
  },
  {
   "cell_type": "code",
   "execution_count": 24,
   "metadata": {},
   "outputs": [],
   "source": [
    "response = agent.finalize_response(task.task_id)"
   ]
  },
  {
   "cell_type": "code",
   "execution_count": 25,
   "metadata": {},
   "outputs": [
    {
     "name": "stdout",
     "output_type": "stream",
     "text": [
      "In MetaGPT, agents share information through a shared message pool where they can publish structured messages. Each agent can subscribe to messages that are relevant to their roles based on their profiles. This setup allows agents to monitor the environment (the message pool) for important observations, such as messages from other agents, which can trigger actions or assist in completing tasks. This mechanism enhances collaboration and ensures that agents have access to the information they need to perform their roles effectively.\n"
     ]
    }
   ],
   "source": [
    "print(str(response))"
   ]
  },
  {
   "cell_type": "code",
   "execution_count": null,
   "metadata": {},
   "outputs": [],
   "source": []
  }
 ],
 "metadata": {
  "kernelspec": {
   "display_name": "learning-env",
   "language": "python",
   "name": "python3"
  },
  "language_info": {
   "codemirror_mode": {
    "name": "ipython",
    "version": 3
   },
   "file_extension": ".py",
   "mimetype": "text/x-python",
   "name": "python",
   "nbconvert_exporter": "python",
   "pygments_lexer": "ipython3",
   "version": "3.11.5"
  }
 },
 "nbformat": 4,
 "nbformat_minor": 2
}
