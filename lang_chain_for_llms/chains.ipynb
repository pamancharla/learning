{
 "cells": [
  {
   "cell_type": "markdown",
   "metadata": {},
   "source": [
    "# Chains in LangChain\n",
    "\n",
    "## Outline\n",
    "\n",
    "* LLMChain\n",
    "* Sequential Chains\n",
    "  * SimpleSequentialChain\n",
    "  * SequentialChain\n",
    "* Router Chain"
   ]
  },
  {
   "cell_type": "code",
   "execution_count": 1,
   "metadata": {},
   "outputs": [],
   "source": [
    "import warnings\n",
    "warnings.filterwarnings('ignore')"
   ]
  },
  {
   "cell_type": "code",
   "execution_count": 1,
   "metadata": {},
   "outputs": [],
   "source": [
    "import os\n",
    "\n",
    "from dotenv import load_dotenv, find_dotenv\n",
    "_ = load_dotenv(find_dotenv()) # read local .env file"
   ]
  },
  {
   "cell_type": "code",
   "execution_count": 2,
   "metadata": {},
   "outputs": [],
   "source": [
    "llm_model = \"gpt-3.5-turbo\""
   ]
  },
  {
   "cell_type": "code",
   "execution_count": 3,
   "metadata": {},
   "outputs": [],
   "source": [
    "import pandas as pd\n",
    "df = pd.read_csv('data.csv')"
   ]
  },
  {
   "cell_type": "code",
   "execution_count": 4,
   "metadata": {},
   "outputs": [
    {
     "data": {
      "text/html": [
       "<div>\n",
       "<style scoped>\n",
       "    .dataframe tbody tr th:only-of-type {\n",
       "        vertical-align: middle;\n",
       "    }\n",
       "\n",
       "    .dataframe tbody tr th {\n",
       "        vertical-align: top;\n",
       "    }\n",
       "\n",
       "    .dataframe thead th {\n",
       "        text-align: right;\n",
       "    }\n",
       "</style>\n",
       "<table border=\"1\" class=\"dataframe\">\n",
       "  <thead>\n",
       "    <tr style=\"text-align: right;\">\n",
       "      <th></th>\n",
       "      <th>Product</th>\n",
       "      <th>Review</th>\n",
       "    </tr>\n",
       "  </thead>\n",
       "  <tbody>\n",
       "    <tr>\n",
       "      <th>0</th>\n",
       "      <td>Queen Size Sheet Set</td>\n",
       "      <td>I ordered a king size set. My only criticism w...</td>\n",
       "    </tr>\n",
       "    <tr>\n",
       "      <th>1</th>\n",
       "      <td>Waterproof Phone Pouch</td>\n",
       "      <td>I loved the waterproof sac, although the openi...</td>\n",
       "    </tr>\n",
       "    <tr>\n",
       "      <th>2</th>\n",
       "      <td>Luxury Air Mattress</td>\n",
       "      <td>This mattress had a small hole in the top of i...</td>\n",
       "    </tr>\n",
       "    <tr>\n",
       "      <th>3</th>\n",
       "      <td>Pillows Insert</td>\n",
       "      <td>This is the best throw pillow fillers on Amazo...</td>\n",
       "    </tr>\n",
       "    <tr>\n",
       "      <th>4</th>\n",
       "      <td>Milk Frother Handheld\\n</td>\n",
       "      <td>I loved this product. But they only seem to l...</td>\n",
       "    </tr>\n",
       "  </tbody>\n",
       "</table>\n",
       "</div>"
      ],
      "text/plain": [
       "                   Product                                             Review\n",
       "0     Queen Size Sheet Set  I ordered a king size set. My only criticism w...\n",
       "1   Waterproof Phone Pouch  I loved the waterproof sac, although the openi...\n",
       "2      Luxury Air Mattress  This mattress had a small hole in the top of i...\n",
       "3           Pillows Insert  This is the best throw pillow fillers on Amazo...\n",
       "4  Milk Frother Handheld\\n   I loved this product. But they only seem to l..."
      ]
     },
     "execution_count": 4,
     "metadata": {},
     "output_type": "execute_result"
    }
   ],
   "source": [
    "df.head()"
   ]
  },
  {
   "cell_type": "markdown",
   "metadata": {},
   "source": [
    "## LLMChain"
   ]
  },
  {
   "cell_type": "code",
   "execution_count": 13,
   "metadata": {},
   "outputs": [],
   "source": [
    "from langchain.prompts import ChatPromptTemplate\n",
    "from langchain_openai import ChatOpenAI"
   ]
  },
  {
   "cell_type": "code",
   "execution_count": 9,
   "metadata": {},
   "outputs": [],
   "source": [
    "llm = ChatOpenAI(temperature=0.9, model=llm_model)"
   ]
  },
  {
   "cell_type": "code",
   "execution_count": 10,
   "metadata": {},
   "outputs": [],
   "source": [
    "prompt = ChatPromptTemplate.from_template(\n",
    "    \"What is the best name to describe \\\n",
    "    a company that makes {product}?\"\n",
    ")"
   ]
  },
  {
   "cell_type": "code",
   "execution_count": 12,
   "metadata": {},
   "outputs": [
    {
     "name": "stdout",
     "output_type": "stream",
     "text": [
      "\"Royal Slumber\"\n"
     ]
    }
   ],
   "source": [
    "chain = prompt | llm\n",
    "product = \"Queen Size Sheet Set\"\n",
    "response = chain.invoke(product)\n",
    "print(response.content)"
   ]
  },
  {
   "cell_type": "code",
   "execution_count": 16,
   "metadata": {},
   "outputs": [
    {
     "name": "stdout",
     "output_type": "stream",
     "text": [
      "Regal Beddings offers luxurious and elegant bedding solutions for a good night's sleep with unmatched comfort and quality.\n"
     ]
    }
   ],
   "source": [
    "llm = ChatOpenAI(temperature=0.9, model=llm_model)\n",
    "\n",
    "# prompt template 1\n",
    "first_prompt = ChatPromptTemplate.from_template(\n",
    "    \"What is the best name to describe \\\n",
    "    a company that makes {product}?\"\n",
    ")\n",
    "\n",
    "# prompt template 2\n",
    "second_prompt = ChatPromptTemplate.from_template(\n",
    "    \"Write a 20 words description for the following \\\n",
    "    company:{company_name}\"\n",
    ")\n",
    "\n",
    "overall_simple_chain = first_prompt | llm | second_prompt | llm\n",
    "response = overall_simple_chain.invoke(product, verbose=True)\n",
    "print(response.content)"
   ]
  },
  {
   "cell_type": "markdown",
   "metadata": {},
   "source": [
    "## SequentialChain"
   ]
  },
  {
   "cell_type": "markdown",
   "metadata": {},
   "source": [
    "Ported from legacy to LCEL"
   ]
  },
  {
   "cell_type": "code",
   "execution_count": 71,
   "metadata": {},
   "outputs": [
    {
     "name": "stdout",
     "output_type": "stream",
     "text": [
      "Merci de votre retour détaillé sur le produit. Nous sommes désolés d'apprendre que vous n'êtes pas satisfait de la qualité de notre produit. Nous prenons vos préoccupations au sérieux et nous allons enquêter sur la question de l'authenticité de notre produit. Veuillez nous contacter directement pour que nous puissions résoudre ce problème et vous offrir une expérience client positive. Merci encore pour vos commentaires.\n"
     ]
    }
   ],
   "source": [
    "from langchain_core.runnables import RunnableAssign\n",
    "from langchain.callbacks.tracers import ConsoleCallbackHandler\n",
    "from operator import itemgetter\n",
    "\n",
    "llm = ChatOpenAI(temperature=0.9, model=llm_model)\n",
    "\n",
    "# prompt template 1: translate to english\n",
    "first_prompt = ChatPromptTemplate.from_template(\n",
    "    \"Translate the following review to english:\"\n",
    "    \"\\n\\n{review}\"\n",
    ")\n",
    "\n",
    "# prompt template 2: summarize\n",
    "second_prompt = ChatPromptTemplate.from_template(\n",
    "    \"Can you summarize the following review in 1 sentence:\"\n",
    "    \"\\n\\n{english_review}\"\n",
    ")\n",
    "\n",
    "# prompt template 3: translate to english\n",
    "third_prompt = ChatPromptTemplate.from_template(\n",
    "    \"What language is the following review:\\n\\n{review}\"\n",
    ")\n",
    "\n",
    "# prompt template 4: follow up message\n",
    "fourth_prompt = ChatPromptTemplate.from_template(\n",
    "    \"Write a follow up response to the following \"\n",
    "    \"summary in the specified language:\"\n",
    "    \"\\n\\nSummary: {summary}\\n\\nLanguage: {language}\"\n",
    ")\n",
    "\n",
    "english_summary_chain = first_prompt | llm | second_prompt | llm\n",
    "original_language_chain = third_prompt | llm\n",
    "follow_up_chain = fourth_prompt | llm\n",
    "\n",
    "sequential_chain = (\n",
    "    RunnableAssign({\"summary\": english_summary_chain, \"review\": itemgetter(\"review\")})\n",
    "    | RunnableAssign({\"language\": original_language_chain})\n",
    "    | follow_up_chain\n",
    ")\n",
    "\n",
    "response = sequential_chain.invoke({\"review\": df.Review[5]}) #config={'callbacks': [ConsoleCallbackHandler()]})\n",
    "print(response.content)"
   ]
  },
  {
   "cell_type": "markdown",
   "metadata": {},
   "source": [
    "## Router Chain"
   ]
  },
  {
   "cell_type": "markdown",
   "metadata": {},
   "source": [
    "Ported from Legacy to LECL"
   ]
  },
  {
   "cell_type": "code",
   "execution_count": 2,
   "metadata": {},
   "outputs": [],
   "source": [
    "physics_prompt = \"\"\"You are a very smart physics professor. \\\n",
    "You are great at answering questions about physics in a concise\\\n",
    "and easy to understand manner. \\\n",
    "When you don't know the answer to a question you admit\\\n",
    "that you don't know.\n",
    "\n",
    "Here is a question:\n",
    "\"\"\"\n",
    "\n",
    "\n",
    "math_prompt = \"\"\"You are a very good mathematician. \\\n",
    "You are great at answering math questions. \\\n",
    "You are so good because you are able to break down \\\n",
    "hard problems into their component parts, \n",
    "answer the component parts, and then put them together\\\n",
    "to answer the broader question.\n",
    "\n",
    "Here is a question:\n",
    "\"\"\"\n",
    "\n",
    "history_prompt = \"\"\"You are a very good historian. \\\n",
    "You have an excellent knowledge of and understanding of people,\\\n",
    "events and contexts from a range of historical periods. \\\n",
    "You have the ability to think, reflect, debate, discuss and \\\n",
    "evaluate the past. You have a respect for historical evidence\\\n",
    "and the ability to make use of it to support your explanations \\\n",
    "and judgements.\n",
    "\n",
    "Here is a question:\n",
    "\"\"\"\n",
    "\n",
    "\n",
    "computerscience_prompt = \"\"\" You are a successful computer scientist.\\\n",
    "You have a passion for creativity, collaboration,\\\n",
    "forward-thinking, confidence, strong problem-solving capabilities,\\\n",
    "understanding of theories and algorithms, and excellent communication \\\n",
    "skills. You are great at answering coding questions. \\\n",
    "You are so good because you know how to solve a problem by \\\n",
    "describing the solution in imperative steps \\\n",
    "that a machine can easily interpret and you know how to \\\n",
    "choose a solution that has a good balance between \\\n",
    "time complexity and space complexity. \n",
    "\n",
    "Here is a question:\n",
    "\"\"\""
   ]
  },
  {
   "cell_type": "code",
   "execution_count": 3,
   "metadata": {},
   "outputs": [],
   "source": [
    "prompt_infos = [\n",
    "    {\n",
    "        \"name\": \"physics\",\n",
    "        \"description\": \"Good for answering questions about physics\", \n",
    "        \"prompt\": physics_prompt\n",
    "    },\n",
    "    {\n",
    "        \"name\": \"math\",\n",
    "        \"description\": \"Good for answering math questions\", \n",
    "        \"prompt\": math_prompt\n",
    "    },\n",
    "    {\n",
    "        \"name\": \"history\",\n",
    "        \"description\": \"Good for answering history questions\", \n",
    "        \"prompt\": history_prompt\n",
    "    },\n",
    "    {\n",
    "        \"name\": \"computer science\",\n",
    "        \"description\": \"Good for answering computer science questions\", \n",
    "        \"prompt\": computerscience_prompt\n",
    "    }\n",
    "]"
   ]
  },
  {
   "cell_type": "code",
   "execution_count": 4,
   "metadata": {},
   "outputs": [],
   "source": [
    "from langchain_openai import ChatOpenAI\n",
    "\n",
    "llm_model = \"gpt-4o-mini\"\n",
    "llm = ChatOpenAI(temperature=0, model=llm_model)"
   ]
  },
  {
   "cell_type": "code",
   "execution_count": 5,
   "metadata": {},
   "outputs": [],
   "source": [
    "from langchain.prompts import ChatPromptTemplate\n",
    "\n",
    "destination_chains = {}\n",
    "for p_info in prompt_infos:\n",
    "    name = p_info[\"name\"]\n",
    "    system_prompt = p_info[\"prompt\"]\n",
    "    prompt = ChatPromptTemplate.from_messages(\n",
    "        [\n",
    "            (\"system\", system_prompt),\n",
    "            (\"human\", \"{input}\")\n",
    "        ]\n",
    "    )\n",
    "    chain = prompt | llm\n",
    "    destination_chains[name] = chain  \n",
    "    \n",
    "destinations = [f\"{p['name']}: {p['description']}\" for p in prompt_infos]\n",
    "destinations_str = \"\\n\".join(destinations)"
   ]
  },
  {
   "cell_type": "code",
   "execution_count": 6,
   "metadata": {},
   "outputs": [],
   "source": [
    "default_prompt = ChatPromptTemplate.from_template(\"{input}\")\n",
    "default_chain = default_prompt | llm"
   ]
  },
  {
   "cell_type": "code",
   "execution_count": 7,
   "metadata": {},
   "outputs": [],
   "source": [
    "from typing import Literal\n",
    "from typing_extensions import TypedDict\n",
    "\n",
    "route_system = f\"\"\"Route to one of the experts mentioned below based on the user's question \\\n",
    "If none of the experts are appropriate, route to \"default\".\n",
    "\n",
    "<< CANDIDATE EXPERTS >>\n",
    "{destinations_str}\"\"\"\n",
    "router_prompt = ChatPromptTemplate.from_messages(\n",
    "    [\n",
    "        (\"system\", route_system),\n",
    "        (\"human\", \"{input}\")\n",
    "    ]\n",
    ")\n",
    "\n",
    "class RouteQuery(TypedDict):\n",
    "    destination: Literal[\"physics\", \"math\", \"history\", \"computer_science\", \"default\"]\n",
    "\n",
    "route_chain = router_prompt | llm.with_structured_output(RouteQuery)"
   ]
  },
  {
   "cell_type": "code",
   "execution_count": 30,
   "metadata": {},
   "outputs": [],
   "source": [
    "from langchain_core.runnables import RunnableConfig\n",
    "from langgraph.graph import END, START, StateGraph\n",
    "\n",
    "# For LangGraph, we will define the state of the graph to hold the query,\n",
    "# destination, and final answer.\n",
    "class State(TypedDict):\n",
    "    query: str\n",
    "    destination: RouteQuery\n",
    "    answer: str\n",
    "\n",
    "\n",
    "node_name_to_function = {}\n",
    "for p_info in prompt_infos:\n",
    "    name = p_info[\"name\"]\n",
    "    chain = destination_chains[name]\n",
    "\n",
    "    async def node_fn(state: State, config: RunnableConfig):\n",
    "        answer = await chain.ainvoke(state[\"query\"], config)\n",
    "        return {\"answer\": answer.content}\n",
    "    \n",
    "    node_name_to_function[name] = node_fn\n",
    "\n",
    "async def default_prompt(state: State, config: RunnableConfig):\n",
    "    answer = await default_chain.ainvoke(state[\"query\"], config)\n",
    "    return {\"answer\": answer.content}\n",
    "\n",
    "async def route_query(state: State, config: RunnableConfig):\n",
    "    route_response = await route_chain.ainvoke(state[\"query\"], config)\n",
    "    return {\"destination\": route_response[\"destination\"]}\n",
    "\n",
    "\n",
    "def select_node(state: State) -> Literal[\"physics\", \"math\", \"history\", \"computer science\", \"default\"]:\n",
    "    if state[\"destination\"] == \"default\":\n",
    "        return \"default\"\n",
    "    for p_info in prompt_infos:\n",
    "        if state[\"destination\"] == p_info[\"name\"]:\n",
    "            return p_info[\"name\"]\n",
    "        \n",
    "\n",
    "graph = StateGraph(State)\n",
    "graph.add_node(\"route_query\", route_query)\n",
    "for p_info in prompt_infos:\n",
    "    graph.add_node(p_info[\"name\"], node_name_to_function[p_info[\"name\"]])\n",
    "\n",
    "graph.add_node(\"default\", default_prompt)\n",
    "\n",
    "graph.add_edge(START, \"route_query\")\n",
    "graph.add_conditional_edges(\"route_query\", select_node)\n",
    "for p_info in prompt_infos:\n",
    "    graph.add_edge(p_info[\"name\"], END)\n",
    "graph.add_edge(\"default\", END)\n",
    "app = graph.compile()\n"
   ]
  },
  {
   "cell_type": "code",
   "execution_count": 31,
   "metadata": {},
   "outputs": [
    {
     "data": {
      "image/png": "[encoded data removed]",
      "text/plain": [
       "<IPython.core.display.Image object>"
      ]
     },
     "execution_count": 31,
     "metadata": {},
     "output_type": "execute_result"
    }
   ],
   "source": [
    "from IPython.display import Image\n",
    "\n",
    "Image(app.get_graph().draw_mermaid_png())"
   ]
  },
  {
   "cell_type": "code",
   "execution_count": 32,
   "metadata": {},
   "outputs": [
    {
     "name": "stdout",
     "output_type": "stream",
     "text": [
      "physics\n",
      "Black body radiation refers to the electromagnetic radiation emitted by an idealized physical body known as a \"black body\" when it is in thermal equilibrium. A black body is an idealized object that absorbs all incident radiation, regardless of frequency or angle of incidence, and re-emits energy in a characteristic spectrum that depends solely on its temperature.\n",
      "\n",
      "### Key Concepts:\n",
      "\n",
      "1. **Black Body**: An idealized object that perfectly absorbs all incoming radiation and emits radiation in a continuous spectrum.\n",
      "\n",
      "2. **Thermal Equilibrium**: A state where the body is at a uniform temperature and the energy absorbed equals the energy emitted.\n",
      "\n",
      "3. **Planck's Law**: Describes the spectral density of electromagnetic radiation emitted by a black body in thermal equilibrium at a given temperature. It shows that the intensity of radiation emitted varies with wavelength and temperature.\n",
      "\n",
      "4. **Wien's Displacement Law**: States that the wavelength at which the emission of radiation is maximized is inversely proportional to the temperature of the black body. As the temperature increases, the peak wavelength decreases.\n",
      "\n",
      "5. **Stefan-Boltzmann Law**: States that the total energy radiated per unit surface area of a black body is proportional to the fourth power of its absolute temperature (T). Mathematically, it can be expressed as:\n",
      "   \\[\n",
      "   j^* = \\sigma T^4\n",
      "   \\]\n",
      "   where \\( j^* \\) is the total energy radiated per unit area, \\( T \\) is the absolute temperature, and \\( \\sigma \\) is the Stefan-Boltzmann constant.\n",
      "\n",
      "### Applications:\n",
      "\n",
      "- **Astrophysics**: Understanding the radiation emitted by stars and other celestial bodies.\n",
      "- **Thermal Imaging**: Used in cameras to detect heat emitted by objects.\n",
      "- **Climate Science**: Helps in modeling the Earth's radiation balance.\n",
      "\n",
      "In summary, black body radiation is a fundamental concept in physics that describes how objects emit radiation based on their temperature, and it has significant implications across various scientific fields.\n"
     ]
    }
   ],
   "source": [
    "query = \"What is black body radiation?\"\n",
    "state = await app.ainvoke({\"query\": query})\n",
    "print(state[\"destination\"])\n",
    "print(state[\"answer\"])"
   ]
  },
  {
   "cell_type": "code",
   "execution_count": 33,
   "metadata": {},
   "outputs": [
    {
     "name": "stdout",
     "output_type": "stream",
     "text": [
      "math\n",
      "The sum of 2 + 2 is 4.\n"
     ]
    }
   ],
   "source": [
    "query = \"what is 2 + 2\"\n",
    "state = await app.ainvoke({\"query\": query})\n",
    "print(state[\"destination\"])\n",
    "print(state[\"answer\"])"
   ]
  },
  {
   "cell_type": "code",
   "execution_count": 34,
   "metadata": {},
   "outputs": [
    {
     "name": "stdout",
     "output_type": "stream",
     "text": [
      "default\n",
      "Every cell in our body contains DNA because DNA serves as the genetic blueprint for the organism. Here are several key reasons why this is the case:\n",
      "\n",
      "1. **Genetic Information**: DNA contains the instructions needed for the development, functioning, growth, and reproduction of all living organisms. It encodes the information necessary to produce proteins, which perform a vast array of functions in the body.\n",
      "\n",
      "2. **Cellular Function**: Each cell type in the body has specific functions, and the DNA in each cell contains the genes that are necessary for that cell's role. For example, muscle cells have genes that help them contract, while nerve cells have genes that support their ability to transmit signals.\n",
      "\n",
      "3. **Development and Differentiation**: During the development of an organism, all cells originate from a single fertilized egg. As the organism grows, cells divide and differentiate into various types, but they all retain the same DNA. This ensures that all cells have the complete set of genetic instructions, even if they express different genes based on their specific functions.\n",
      "\n",
      "4. **Repair and Maintenance**: DNA is crucial for the repair and maintenance of cells. When cells are damaged or when they divide, they need to replicate their DNA accurately to ensure that each new cell has the correct genetic information.\n",
      "\n",
      "5. **Inheritance**: DNA is passed from parents to offspring, ensuring that genetic traits are inherited. This continuity of genetic information is essential for the survival and evolution of species.\n",
      "\n",
      "In summary, the presence of DNA in every cell is fundamental to the biological processes that sustain life, allowing for the proper functioning, growth, and reproduction of the organism.\n"
     ]
    }
   ],
   "source": [
    "query = \"Why does every cell in our body contain DNA?\"\n",
    "state = await app.ainvoke({\"query\": query})\n",
    "print(state[\"destination\"])\n",
    "print(state[\"answer\"])"
   ]
  },
  {
   "cell_type": "code",
   "execution_count": null,
   "metadata": {},
   "outputs": [],
   "source": []
  }
 ],
 "metadata": {
  "kernelspec": {
   "display_name": "learning-env",
   "language": "python",
   "name": "python3"
  },
  "language_info": {
   "codemirror_mode": {
    "name": "ipython",
    "version": 3
   },
   "file_extension": ".py",
   "mimetype": "text/x-python",
   "name": "python",
   "nbconvert_exporter": "python",
   "pygments_lexer": "ipython3",
   "version": "3.11.5"
  }
 },
 "nbformat": 4,
 "nbformat_minor": 2
}
